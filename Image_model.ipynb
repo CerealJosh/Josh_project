{
 "cells": [
  {
   "cell_type": "code",
   "execution_count": 17,
   "metadata": {},
   "outputs": [],
   "source": [
    "import tensorflow as tf\n",
    "from tensorflow.keras import layers, models\n",
    "from tensorflow.keras.preprocessing.image import ImageDataGenerator\n",
    "from sklearn.model_selection import train_test_split\n",
    "import os\n",
    "import numpy as np"
   ]
  },
  {
   "cell_type": "code",
   "execution_count": 18,
   "metadata": {},
   "outputs": [],
   "source": [
    "# Define image dimensions and parameters\n",
    "img_height = 224\n",
    "img_width = 224\n",
    "batch_size = 32\n",
    "num_classes = 4\n",
    "\n",
    "# Define path to your dataset\n",
    "data_dir = 'Image_Data'\n",
    "\n",
    "# Prepare the ImageDataGenerator for loading images\n",
    "datagen = ImageDataGenerator(rescale=1./255)\n",
    "\n",
    "# Load all data and labels\n",
    "all_data = []\n",
    "all_labels = []\n",
    "\n",
    "categories = [\"Blue_fire\",\"Green_fire\",\"Orange_fire\",\"White_fire\"]\n",
    "\n",
    "for category in categories:\n",
    "    category_path = os.path.join(data_dir, category)\n",
    "    \n",
    "    for img_name in os.listdir(category_path):\n",
    "        img_path = os.path.join(category_path, img_name)\n",
    "        img = tf.keras.preprocessing.image.load_img(img_path, target_size=(img_height, img_width))\n",
    "        img_array = tf.keras.preprocessing.image.img_to_array(img)\n",
    "        \n",
    "        all_data.append(img_array)\n",
    "        all_labels.append(category)\n",
    "\n",
    "\n",
    "# Convert lists to numpy arrays\n",
    "all_data = np.array(all_data)\n",
    "#all_labels = np.array(all_labels)"
   ]
  },
  {
   "cell_type": "code",
   "execution_count": 19,
   "metadata": {},
   "outputs": [],
   "source": [
    "# Convert labels to one-hot encoding\n",
    "label_map = {name: index for index, name in enumerate(categories)}\n",
    "all_labels = np.array([label_map[label] for label in all_labels])\n",
    "all_labels = tf.keras.utils.to_categorical(all_labels, num_classes)"
   ]
  },
  {
   "cell_type": "code",
   "execution_count": 20,
   "metadata": {},
   "outputs": [],
   "source": [
    "# Split data into training and testing sets\n",
    "X_train, X_test, y_train, y_test = train_test_split(all_data, all_labels, test_size=0.2, random_state=42)\n",
    "\n",
    "# # Convert labels to one-hot encoding\n",
    "# y_train = tf.keras.utils.to_categorical(y_train, num_classes)\n",
    "# y_test = tf.keras.utils.to_categorical(y_test, num_classes)\n",
    "\n",
    "# Data augmentation for the training set\n",
    "train_datagen = ImageDataGenerator(\n",
    "    rotation_range=20,\n",
    "    width_shift_range=0.2,\n",
    "    height_shift_range=0.2,\n",
    "    shear_range=0.2,\n",
    "    zoom_range=0.2,\n",
    "    horizontal_flip=True,\n",
    "    fill_mode='nearest'\n",
    ")\n",
    "\n",
    "# Preprocess the testing set\n",
    "test_datagen = ImageDataGenerator()"
   ]
  },
  {
   "cell_type": "code",
   "execution_count": 21,
   "metadata": {},
   "outputs": [],
   "source": [
    "# Load and preprocess training and testing data\n",
    "train_generator = train_datagen.flow(X_train, y_train, batch_size=batch_size)\n",
    "test_generator = test_datagen.flow(X_test, y_test, batch_size=batch_size)\n",
    "\n",
    "# Load the MobileNetV2 model, excluding the top layers\n",
    "#base_model = tf.keras.applications.MobileNetV2(input_shape=(img_height, img_width, 3),\n",
    "#                                               include_top=False,\n",
    " #                                              weights='imagenet')\n",
    "\n",
    "base_model = tf.keras.applications.VGG16(input_shape=(img_height, img_width, 3),\n",
    "                                               include_top=False,\n",
    "                                               weights='imagenet')\n"
   ]
  },
  {
   "cell_type": "code",
   "execution_count": 22,
   "metadata": {},
   "outputs": [
    {
     "name": "stdout",
     "output_type": "stream",
     "text": [
      "Epoch 1/15\n",
      "10/10 [==============================] - 167s 17s/step - loss: 4.6931 - accuracy: 0.4503 - precision_3: 0.4497 - recall_3: 0.4437 - val_loss: 2.3870 - val_accuracy: 0.5938 - val_precision_3: 0.5968 - val_recall_3: 0.5781\n",
      "Epoch 2/15\n",
      "10/10 [==============================] - 172s 18s/step - loss: 2.1911 - accuracy: 0.5960 - precision_3: 0.6138 - recall_3: 0.5894 - val_loss: 0.6133 - val_accuracy: 0.7656 - val_precision_3: 0.8305 - val_recall_3: 0.7656\n",
      "Epoch 3/15\n",
      "10/10 [==============================] - 222s 23s/step - loss: 1.1625 - accuracy: 0.7156 - precision_3: 0.7252 - recall_3: 0.7094 - val_loss: 0.4197 - val_accuracy: 0.9219 - val_precision_3: 0.9153 - val_recall_3: 0.8438\n",
      "Epoch 4/15\n",
      " 3/10 [========>.....................] - ETA: 2:17 - loss: 0.7698 - accuracy: 0.7917 - precision_3: 0.7935 - recall_3: 0.7604"
     ]
    }
   ],
   "source": [
    "# Freeze the base model\n",
    "base_model.trainable = False\n",
    "\n",
    "# Build the model\n",
    "model = models.Sequential([\n",
    "    base_model,\n",
    "    layers.GlobalAveragePooling2D(),\n",
    "    layers.Dense(128, activation='relu'),\n",
    "    layers.Dropout(0.5),\n",
    "    layers.Dense(num_classes, activation='softmax')\n",
    "])\n",
    "\n",
    "# Compile the model\n",
    "model.compile(optimizer='adam',\n",
    "              loss='categorical_crossentropy',\n",
    "              metrics=['accuracy',\n",
    "                       tf.keras.metrics.Precision(),\n",
    "                       tf.keras.metrics.Recall()])\n",
    "\n",
    "# Train the model\n",
    "model.fit(\n",
    "    train_generator,\n",
    "    steps_per_epoch=len(X_train) // batch_size,\n",
    "    validation_data=test_generator,\n",
    "    validation_steps=len(X_test) // batch_size,\n",
    "    epochs=15\n",
    ")"
   ]
  },
  {
   "cell_type": "code",
   "execution_count": null,
   "metadata": {},
   "outputs": [],
   "source": [
    "# Save the model\n",
    "model.save('VGG16_image_classifier.h5')"
   ]
  },
  {
   "cell_type": "code",
   "execution_count": null,
   "metadata": {},
   "outputs": [
    {
     "name": "stdout",
     "output_type": "stream",
     "text": [
      "3/3 [==============================] - 11s 4s/step - loss: 0.2791 - accuracy: 0.9048 - precision_2: 0.9268 - recall_2: 0.9048\n",
      "Test loss: 0.2791098952293396\n",
      "Test accuracy: 0.9047619104385376\n",
      "Test precision: 0.9268292784690857\n",
      "Test recall: 0.9047619104385376\n"
     ]
    }
   ],
   "source": [
    "# Evaluate the model on the testing data\n",
    "test_loss, test_accuracy, test_precision, test_recall = model.evaluate(test_generator)\n",
    "print(f'Test loss: {test_loss}')\n",
    "print(f'Test accuracy: {test_accuracy}')\n",
    "print(f'Test precision: {test_precision}')\n",
    "print(f'Test recall: {test_recall}')"
   ]
  }
 ],
 "metadata": {
  "kernelspec": {
   "display_name": ".venv",
   "language": "python",
   "name": "python3"
  },
  "language_info": {
   "codemirror_mode": {
    "name": "ipython",
    "version": 3
   },
   "file_extension": ".py",
   "mimetype": "text/x-python",
   "name": "python",
   "nbconvert_exporter": "python",
   "pygments_lexer": "ipython3",
   "version": "3.11.3"
  }
 },
 "nbformat": 4,
 "nbformat_minor": 2
}
